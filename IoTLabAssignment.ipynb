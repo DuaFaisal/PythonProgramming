{
  "nbformat": 4,
  "nbformat_minor": 0,
  "metadata": {
    "colab": {
      "name": "IoTLabAssignment.ipynb",
      "provenance": [],
      "collapsed_sections": []
    },
    "kernelspec": {
      "name": "python3",
      "display_name": "Python 3"
    },
    "language_info": {
      "name": "python"
    }
  },
  "cells": [
    {
      "cell_type": "code",
      "source": [
        "'''Q1) Write a program to reverse an integer in Python.'''\n",
        "num = int(input(\"Enter a number: \"))  \n",
        "rev = 0\n",
        "\n",
        "while num != 0:\n",
        "    n = num % 10\n",
        "    rev = rev * 10 + n\n",
        "    num //= 10\n",
        "\n",
        "print(\"Reversed number is: \",rev)"
      ],
      "metadata": {
        "colab": {
          "base_uri": "https://localhost:8080/"
        },
        "id": "JUSVEAJU90hi",
        "outputId": "8d0e5cce-ff71-4b84-ce51-df0cd046abb4"
      },
      "execution_count": null,
      "outputs": [
        {
          "output_type": "stream",
          "name": "stdout",
          "text": [
            "Enter a number: 123456\n",
            "Reversed number is:  654321\n"
          ]
        }
      ]
    },
    {
      "cell_type": "code",
      "source": [
        "'''Q2) Write a program in Python to check whether an integer is Armstrong number\n",
        "or not.'''\n",
        "num = int(input(\"Enter a number: \")) \n",
        "sum = 0\n",
        "tem = num\n",
        "while tem > 0:\n",
        "  n = tem % 10\n",
        "  sum += n ** 3\n",
        "  tem //= 10\n",
        "if sum == num:\n",
        "  print(f\"The {num} is an armstrong number \")\n",
        "else:\n",
        "  print(f\"The {num} is not an armstrong number \")"
      ],
      "metadata": {
        "colab": {
          "base_uri": "https://localhost:8080/"
        },
        "id": "IQ6ZoJYN-Hpx",
        "outputId": "08752e87-3e6b-4a78-b46e-11efb20d883e"
      },
      "execution_count": null,
      "outputs": [
        {
          "output_type": "stream",
          "name": "stdout",
          "text": [
            "Enter a number: 290\n",
            "The 290 is not an armstrong number \n"
          ]
        }
      ]
    },
    {
      "cell_type": "code",
      "source": [
        "'''Q3) Write a program in Python to check given number is prime or not.'''\n",
        "num = int(input(\"Enter a number: \"))\n",
        "if num > 1:\n",
        "    for n in range(2, int(num/2)+1):\n",
        "        if (num % n) == 0:\n",
        "            print(num, \"is not a prime number\")\n",
        "            break\n",
        "    else:\n",
        "        print(num, \"is a prime number\")\n",
        "else:\n",
        "    print(num, \"is not a prime number\")"
      ],
      "metadata": {
        "colab": {
          "base_uri": "https://localhost:8080/"
        },
        "id": "nlRhbmn1-6GX",
        "outputId": "0e789f4e-8fca-43c4-df0c-15c5cc0da5e4"
      },
      "execution_count": null,
      "outputs": [
        {
          "output_type": "stream",
          "name": "stdout",
          "text": [
            "Enter a number: 29\n",
            "29 is a prime number\n"
          ]
        }
      ]
    },
    {
      "cell_type": "code",
      "source": [
        "'''Q4) Write a program in Python to print the Fibonacci series using iterative method.'''\n",
        "num = int(input(\"Enter terms you want: \"))\n",
        "n1 = 0\n",
        "n2 = 1\n",
        "count = 0\n",
        "if num < 0:\n",
        "  print(\"You have entered a negative number!!\")\n",
        "elif num == 0:\n",
        "  print(n1)\n",
        "elif num == 1:\n",
        "  print(n2)\n",
        "else:\n",
        "  print(\"Fibonacci series is: \")\n",
        "  while count < num:\n",
        "    print(n1, end = \" \")\n",
        "    n3 = n1 + n2\n",
        "    n1 = n2\n",
        "    n2 = n3\n",
        "    count +=1"
      ],
      "metadata": {
        "colab": {
          "base_uri": "https://localhost:8080/"
        },
        "id": "eGjnErpIAO-l",
        "outputId": "1f423a4e-3ff0-4b5a-ea95-6ed7fe5b2c3b"
      },
      "execution_count": null,
      "outputs": [
        {
          "output_type": "stream",
          "name": "stdout",
          "text": [
            "Enter terms you want: 6\n",
            "Fibonacci series is: \n",
            "0 1 1 2 3 5 "
          ]
        }
      ]
    },
    {
      "cell_type": "code",
      "source": [
        "'''Q5) Write a program in Python to check whether a number is palindrome or not\n",
        "using iterative method.'''\n",
        "num = int(input(\"Enter a number : \"))\n",
        "hold = num\n",
        "rev = 0\n",
        "while(num > 0):\n",
        "    n = num%10\n",
        "    rev = rev*10+n\n",
        "    num=num//10\n",
        "if(hold == rev):\n",
        "    print(\"The number\",hold,\" is palindrome\")\n",
        "else:\n",
        "    print(\"The number\",hold,\" is not a palindrome\")"
      ],
      "metadata": {
        "colab": {
          "base_uri": "https://localhost:8080/"
        },
        "id": "Zv_tTizADqLS",
        "outputId": "1557cb14-13a6-4a9d-9119-8ecfe87ee3bf"
      },
      "execution_count": null,
      "outputs": [
        {
          "output_type": "stream",
          "name": "stdout",
          "text": [
            "Enter a number : 11211\n",
            "The number 11211  is palindrome\n"
          ]
        }
      ]
    },
    {
      "cell_type": "code",
      "source": [
        "'''Q6) Write a program in Python to find greatest among three integers.'''\n",
        "num = []\n",
        "for n in range(3):\n",
        "  n = int(input(\"Enter number: \"))\n",
        "  num.append(n)\n",
        "num.sort()\n",
        "print(\"The greatest among three integers is: \",num[2])"
      ],
      "metadata": {
        "colab": {
          "base_uri": "https://localhost:8080/"
        },
        "id": "IRVNp02NKzx0",
        "outputId": "923e97e5-c152-435a-d861-7dc462275d19"
      },
      "execution_count": null,
      "outputs": [
        {
          "output_type": "stream",
          "name": "stdout",
          "text": [
            "Enter number: 3\n",
            "Enter number: 8\n",
            "Enter number: 1\n",
            "The greatest among three integers is:  8\n"
          ]
        }
      ]
    },
    {
      "cell_type": "code",
      "source": [
        "'''Q7) Write a program in Python to check if a number is binary?'''\n",
        "num = int(input(\"Enter a number: \"))\n",
        "n = num\n",
        "flag = 0\n",
        "while(num != 0):\n",
        "  digit = int(num%10)\n",
        "  if(digit==0 or digit ==1):\n",
        "    num = num/10\n",
        "    continue\n",
        "  else:\n",
        "    flag +=1\n",
        "    break\n",
        "if flag == 0:\n",
        "  print(n,\" is a binary number\")\n",
        "else:\n",
        "  print(n,\" is not a binary number\")"
      ],
      "metadata": {
        "id": "CSG1JgMWN4wu",
        "colab": {
          "base_uri": "https://localhost:8080/"
        },
        "outputId": "1e124fdc-b698-43e3-97db-9c53c5672e90"
      },
      "execution_count": null,
      "outputs": [
        {
          "output_type": "stream",
          "name": "stdout",
          "text": [
            "Enter a number: 1001\n",
            "1001  is a binary number\n"
          ]
        }
      ]
    },
    {
      "cell_type": "code",
      "source": [
        "'''Q8) Write a program in Python to find sum of digits.'''\n",
        "digits = []\n",
        "sum = 0\n",
        "limit = int(input(\"How many digits you want? \"))\n",
        "for n in range(limit):\n",
        "  n = int(input(\"Enter digit: \"))\n",
        "  digits.append(n)\n",
        "print(\"Original list\\n \",digits)\n",
        "print(\"------------------------\")\n",
        "\n",
        "for s in range(len(digits)):\n",
        "  sum += digits[s]\n",
        "print(\"The sum of digits in list is: \",sum)"
      ],
      "metadata": {
        "colab": {
          "base_uri": "https://localhost:8080/"
        },
        "id": "5rYp6L1dmVEr",
        "outputId": "3c11a6a1-a82b-416f-a202-912949f30aac"
      },
      "execution_count": null,
      "outputs": [
        {
          "output_type": "stream",
          "name": "stdout",
          "text": [
            "How many digits you want? 3\n",
            "Enter digit: 3\n",
            "Enter digit: 4\n",
            "Enter digit: 3\n",
            "Original list\n",
            "  [3, 4, 3]\n",
            "------------------------\n",
            "The sum of digits in list is:  10\n"
          ]
        }
      ]
    },
    {
      "cell_type": "code",
      "source": [
        "'''Q9) Write a program in Python to swap two numbers without using third variable?'''\n",
        "num1 = input(\"Enter 1st number: \")\n",
        "num2 = input(\"Enter 2nd number: \")\n",
        "print(\"\\tBefore swapping\")\n",
        "print(\"num1 = \",num1)\n",
        "print(\"num2 = \",num2)\n",
        "print(\"--------------------\")\n",
        "print(\"\\tAfter swapping\")\n",
        "print(\"num1 = \",num1.replace(num1,num2))\n",
        "print(\"num2 = \",num2.replace(num2,num1))"
      ],
      "metadata": {
        "colab": {
          "base_uri": "https://localhost:8080/"
        },
        "id": "vMsxkfE6ry-k",
        "outputId": "2675c44f-3b16-489f-aae7-8ccc21cf265b"
      },
      "execution_count": null,
      "outputs": [
        {
          "output_type": "stream",
          "name": "stdout",
          "text": [
            "Enter 1st number: 29\n",
            "Enter 2nd number: 17\n",
            "\tBefore swapping\n",
            "num1 =  29\n",
            "num2 =  17\n",
            "--------------------\n",
            "\tAfter swapping\n",
            "num1 =  17\n",
            "num2 =  29\n"
          ]
        }
      ]
    },
    {
      "cell_type": "code",
      "source": [
        "'''Q10) Write a program in Python to swap two numbers using\n",
        "third variable?'''\n",
        "num1 = input(\"Enter 1st number: \")\n",
        "num2 = input(\"Enter 2nd number: \")\n",
        "print(\"\\tBefore swapping\")\n",
        "print(\"num1 = \",num1)\n",
        "print(\"num2 = \",num2)\n",
        "print(\"--------------------\")\n",
        "print(\"\\tAfter swapping\")\n",
        "num = num1\n",
        "num1 = num2\n",
        "num2 = num\n",
        "print(\"num1 = \",num1)\n",
        "print(\"num2 = \",num2)"
      ],
      "metadata": {
        "colab": {
          "base_uri": "https://localhost:8080/"
        },
        "id": "xdBYjTKlVZ2K",
        "outputId": "aa81ab62-09fd-4e74-cc0c-25461d320f20"
      },
      "execution_count": null,
      "outputs": [
        {
          "output_type": "stream",
          "name": "stdout",
          "text": [
            "Enter 1st number: 2\n",
            "Enter 2nd number: 17\n",
            "\tBefore swapping\n",
            "num1 =  2\n",
            "num2 =  17\n",
            "--------------------\n",
            "\tAfter swapping\n",
            "num1 =  17\n",
            "num2 =  2\n"
          ]
        }
      ]
    },
    {
      "cell_type": "code",
      "source": [
        "'''Q11) Python Program to find the Average of numbers.'''\n",
        "num = []\n",
        "sum = 0\n",
        "limit = int(input(\"How many numbers you want? \"))\n",
        "for n in range(limit):\n",
        "  n = int(input(\"Enter number: \"))\n",
        "  num.append(n)\n",
        "print(\"The list of numbers: \",num)\n",
        "\n",
        "for s in range(len(num)):\n",
        "  sum += num[s]\n",
        "  avg = sum/(len(num))\n",
        "print(\"The average is: \",avg)"
      ],
      "metadata": {
        "colab": {
          "base_uri": "https://localhost:8080/"
        },
        "id": "W-zXY1KGxQHB",
        "outputId": "c33405b3-8e2f-4d72-82bc-7e9d67d1e8b0"
      },
      "execution_count": null,
      "outputs": [
        {
          "output_type": "stream",
          "name": "stdout",
          "text": [
            "How many numbers you want? 3\n",
            "Enter number: 1\n",
            "Enter number: 2\n",
            "Enter number: 3\n",
            "The list of numbers:  [1, 2, 3]\n",
            "The average is:  2.0\n"
          ]
        }
      ]
    },
    {
      "cell_type": "code",
      "source": [
        "'''Q12) Python Program to calculate factorial using iterative method.'''\n",
        "num = int(input(\"Enter a number: \"))\n",
        "n1 = 0\n",
        "n2 = 1\n",
        "if num<0:\n",
        "  print(\"Please enter a positive integer!!\")\n",
        "elif num == 0:\n",
        "  print(n1)\n",
        "elif num == 1:\n",
        "  print(\"Factorial of \",num,\" is always: \",n2)\n",
        "else:\n",
        "  for n in range(2,int(num+1)):\n",
        "    n2 *= n\n",
        "  print(\"Factorial is: \",n2)"
      ],
      "metadata": {
        "colab": {
          "base_uri": "https://localhost:8080/"
        },
        "id": "g3Znk4XUDYon",
        "outputId": "a15d14e9-e544-4e13-dce1-1936eeb13aff"
      },
      "execution_count": null,
      "outputs": [
        {
          "output_type": "stream",
          "name": "stdout",
          "text": [
            "Enter a number: 4\n",
            "Factorial is:  24\n"
          ]
        }
      ]
    },
    {
      "cell_type": "code",
      "source": [
        "'''Q13) Python Program to calculate factorial.'''\n",
        "num = int(input(\"Enter a number: \"))\n",
        "n1 = 0\n",
        "n2 = 1\n",
        "if num<0:\n",
        "  print(\"Please enter a positive integer!!\")\n",
        "elif num == 0:\n",
        "  print(n1)\n",
        "elif num == 1:\n",
        "  print(\"Factorial of \",num,\" is always: \",n2)\n",
        "else:\n",
        "  for n in range(2,int(num+1)):\n",
        "    n2 *= n\n",
        "  print(\"Factorial is: \",n2)"
      ],
      "metadata": {
        "colab": {
          "base_uri": "https://localhost:8080/"
        },
        "id": "jGsQl6fGNVJj",
        "outputId": "26cf90d2-b835-42b6-afb7-4dfc571f4bfa"
      },
      "execution_count": null,
      "outputs": [
        {
          "output_type": "stream",
          "name": "stdout",
          "text": [
            "Enter a number: 5\n",
            "Factorial is:  120\n"
          ]
        }
      ]
    },
    {
      "cell_type": "code",
      "source": [
        "'''Q14) Python Program to check a given number is even or odd.'''\n",
        "num = int(input(\"Enter a number: \"))\n",
        "if num%2 == 0:\n",
        "  print(num,\" is an even number\")\n",
        "else:\n",
        "  print(num,\" is an odd number\")"
      ],
      "metadata": {
        "colab": {
          "base_uri": "https://localhost:8080/"
        },
        "id": "WPHVDCLlP64X",
        "outputId": "c4ea7099-9b89-4ba5-8e7c-168b191dc273"
      },
      "execution_count": null,
      "outputs": [
        {
          "output_type": "stream",
          "name": "stdout",
          "text": [
            "Enter a number: 3444\n",
            "3444  is an even number\n"
          ]
        }
      ]
    },
    {
      "cell_type": "code",
      "source": [
        "'''Q15) Python program to print first n Prime Number.'''\n",
        "limit = int(input(\"How many prime numbers you want? \"))\n",
        "n = 2\n",
        "while limit != 0:\n",
        "    for i in range(2, n):\n",
        "      if n%i == 0:\n",
        "        break\n",
        "    else:\n",
        "      print(n,end=\" \")\n",
        "      limit -= 1\n",
        "    n += 1"
      ],
      "metadata": {
        "id": "nlDr0xi_bGeV",
        "colab": {
          "base_uri": "https://localhost:8080/"
        },
        "outputId": "cf669403-7490-4599-ddac-e06bc543307d"
      },
      "execution_count": null,
      "outputs": [
        {
          "output_type": "stream",
          "name": "stdout",
          "text": [
            "How many prime numbers you want? 8\n",
            "2 3 5 7 11 13 17 19 "
          ]
        }
      ]
    },
    {
      "cell_type": "code",
      "source": [
        "'''Q16) Python Program to print Prime Number in a given range.'''\n",
        "starting = int(input(\"Enter starting of range: \"))\n",
        "ending = int(input(\"Enter ending of range: \"))\n",
        "\n",
        "for n in range(starting,ending+1) :\n",
        "  for i in range(2, n):\n",
        "    if n%i == 0:\n",
        "      break\n",
        "  else:\n",
        "    print(n,end=\" \")"
      ],
      "metadata": {
        "colab": {
          "base_uri": "https://localhost:8080/"
        },
        "id": "hFmnwTNyd9ne",
        "outputId": "25fa26e4-4e63-499d-e5bb-1cc90230a4f6"
      },
      "execution_count": null,
      "outputs": [
        {
          "output_type": "stream",
          "name": "stdout",
          "text": [
            "Enter starting of range: 4\n",
            "Enter ending of range: 17\n",
            "5 7 11 13 17 "
          ]
        }
      ]
    },
    {
      "cell_type": "code",
      "source": [
        "'''Q17) Python Program to find Smallest number among three.'''\n",
        "num = []\n",
        "for n in range(3):\n",
        "  n = int(input(\"Enter number: \"))\n",
        "  num.append(n)\n",
        "print(\"The list is: \",num)\n",
        "num.sort()\n",
        "print(\"The smallest among all is: \",num[0])"
      ],
      "metadata": {
        "colab": {
          "base_uri": "https://localhost:8080/"
        },
        "id": "5nln7zGbztcw",
        "outputId": "e392a4e7-bc1e-4237-bd4d-1cc911034193"
      },
      "execution_count": null,
      "outputs": [
        {
          "output_type": "stream",
          "name": "stdout",
          "text": [
            "Enter number: 5\n",
            "Enter number: 8\n",
            "Enter number: 1\n",
            "The list is:  [5, 8, 1]\n",
            "The smallest among all is:  1\n"
          ]
        }
      ]
    },
    {
      "cell_type": "code",
      "source": [
        "'''Q18) Python program to calculate the power using the POW method.'''\n",
        "import math\n",
        "num = int(input(\"Enter a base number: \"))\n",
        "power = int(input(\"Enter power: \"))\n",
        "result = math.pow(num,power)\n",
        "print(\"Result is: \",result)"
      ],
      "metadata": {
        "colab": {
          "base_uri": "https://localhost:8080/"
        },
        "id": "LL5PA6Hq0e5x",
        "outputId": "5f6882b8-8b27-4f4e-a9e2-6ec33e6fd85e"
      },
      "execution_count": null,
      "outputs": [
        {
          "output_type": "stream",
          "name": "stdout",
          "text": [
            "Enter a base number: 2\n",
            "Enter power: 3\n",
            "Result is:  8\n"
          ]
        }
      ]
    },
    {
      "cell_type": "code",
      "source": [
        "'''Q19) Python Program to calculate the square of a given number.'''\n",
        "import math\n",
        "num = int(input(\"Enter a base number: \"))\n",
        "#Method 1\n",
        "power = 2\n",
        "result = math.pow(num,power)\n",
        "print(\"Result is: \",result)\n",
        "print(\"-------------------------\")\n",
        "#Method 2\n",
        "result = num**2\n",
        "print(\"Result is: \",result)"
      ],
      "metadata": {
        "colab": {
          "base_uri": "https://localhost:8080/"
        },
        "id": "BOM5eYv91VGM",
        "outputId": "89c1f537-4dd4-4e36-c2e0-be63dfe423c7"
      },
      "execution_count": null,
      "outputs": [
        {
          "output_type": "stream",
          "name": "stdout",
          "text": [
            "Enter a base number: 5\n",
            "Result is:  25\n",
            "-------------------------\n",
            "Result is:  25\n"
          ]
        }
      ]
    },
    {
      "cell_type": "code",
      "source": [
        "'''Q20) Python Program to calculate the cube of a given number.'''\n",
        "import math\n",
        "num = int(input(\"Enter a base number: \"))\n",
        "#Method 1\n",
        "power = 3\n",
        "result = math.pow(num,power)\n",
        "print(\"Result is: \",result)\n",
        "print(\"-------------------------\")\n",
        "#Method 2\n",
        "result = num**3\n",
        "print(\"Result is: \",result)"
      ],
      "metadata": {
        "colab": {
          "base_uri": "https://localhost:8080/"
        },
        "id": "rOl--7kb1dzz",
        "outputId": "36657ddc-a333-46fb-fee1-2160a0238c87"
      },
      "execution_count": null,
      "outputs": [
        {
          "output_type": "stream",
          "name": "stdout",
          "text": [
            "Enter a base number: 5\n",
            "Result is:  125\n",
            "-------------------------\n",
            "Result is:  125\n"
          ]
        }
      ]
    },
    {
      "cell_type": "code",
      "source": [
        "'''Q21) Python Program to calculate the square root of a given number.'''\n",
        "import math\n",
        "num = int(input(\"Enter a number: \"))\n",
        "sqroot = math.sqrt(num)\n",
        "print(\"The square root of \",num,\" is: \",sqroot)"
      ],
      "metadata": {
        "colab": {
          "base_uri": "https://localhost:8080/"
        },
        "id": "OHUHyL5U2Lox",
        "outputId": "d094c3ca-4428-4d0d-999a-531537d6be63"
      },
      "execution_count": null,
      "outputs": [
        {
          "output_type": "stream",
          "name": "stdout",
          "text": [
            "Enter a number: 25\n",
            "The square root of  25  is:  5.0\n"
          ]
        }
      ]
    },
    {
      "cell_type": "code",
      "source": [
        "'''Q22) Python Program to Convert Decimal Number into Binary.'''\n",
        "dec_num = int(input(\"Enter a decimal number: \"))\n",
        "bin_num = 0\n",
        "count = 0\n",
        "hold = dec_num  \n",
        "while(hold > 0):\n",
        "    bin_num = ((hold%2)*(10**count)) + bin_num\n",
        "    hold = int(hold/2)\n",
        "    count += 1\n",
        "\n",
        "#output the result       \n",
        "print(\"Binary number is: \",bin_num)"
      ],
      "metadata": {
        "id": "XKyaUc2i29Jf",
        "colab": {
          "base_uri": "https://localhost:8080/"
        },
        "outputId": "4fd72c57-3739-48d3-fc37-223cd6d6ba13"
      },
      "execution_count": null,
      "outputs": [
        {
          "output_type": "stream",
          "name": "stdout",
          "text": [
            "Enter a decimal number: 4\n",
            "Binary number is:  100\n"
          ]
        }
      ]
    },
    {
      "cell_type": "code",
      "source": [
        "'''Q23) Python Program to convert Decimal number to Octal number.'''\n",
        "decimal = int(input(\"Enter a decimal number: \"))\n",
        "octal = 0\n",
        "count = 0\n",
        "hold = decimal\n",
        "while(hold > 0):\n",
        "    octal = ((hold%8)*(10**count)) + octal\n",
        "    hold = int(hold/8)\n",
        "    count += 1\n",
        "\n",
        "print(\"Octal number is: \",octal)\n"
      ],
      "metadata": {
        "id": "qtPr2t7i3T7_",
        "colab": {
          "base_uri": "https://localhost:8080/"
        },
        "outputId": "0d17efde-bad7-4520-b4f4-d5b66b6b23bc"
      },
      "execution_count": 1,
      "outputs": [
        {
          "output_type": "stream",
          "name": "stdout",
          "text": [
            "Enter a decimal number: 29\n",
            "Octal number is:  35\n"
          ]
        }
      ]
    },
    {
      "cell_type": "code",
      "source": [
        "'''Q24) Python Program to check the given year is a leap year or not.'''\n",
        "\n",
        "leap = int(input(\"Enter Year To Check Whether it's A leap Year or Not: \"))\n",
        "if (leap % 400 == 0) and (leap % 100 == 0):\n",
        "    print(leap,\" is leap year\")\n",
        "elif (leap % 4 ==0) and (leap % 100 != 0):\n",
        "    print(leap,\" is leap year\")\n",
        "else:\n",
        "    print(leap,\" is not leap year\")\n"
      ],
      "metadata": {
        "id": "K2-z5bJJ3Z1u",
        "colab": {
          "base_uri": "https://localhost:8080/"
        },
        "outputId": "0d8fc2d3-5752-473c-af09-91594deb5b6b"
      },
      "execution_count": null,
      "outputs": [
        {
          "output_type": "stream",
          "name": "stdout",
          "text": [
            "Enter Year To Check Whether it's A leap Year or Not: 2018\n",
            "2018  is not leap year\n"
          ]
        }
      ]
    },
    {
      "cell_type": "code",
      "source": [
        "'''Q25) Python Program to convert Celsius to Fahrenheit.'''\n",
        "\n",
        "temp = int(input(\"Enter Celsius Temperature: \"))\n",
        "converted_Temp = (temp * 1.8) + 32\n",
        "print(\"Temperature in fahrenhiet: \",converted_Temp)"
      ],
      "metadata": {
        "id": "M01OAffu3fG4",
        "colab": {
          "base_uri": "https://localhost:8080/"
        },
        "outputId": "d6266ce9-8167-470b-b140-7e2795daa7f8"
      },
      "execution_count": null,
      "outputs": [
        {
          "output_type": "stream",
          "name": "stdout",
          "text": [
            "Enter Celsius Temperature: 1\n",
            "Temperature in fahrenhiet:  33.8\n"
          ]
        }
      ]
    },
    {
      "cell_type": "code",
      "source": [
        "'''Q26) Python Program to convert Fahrenheit to Celsius.'''\n",
        "\n",
        "temp = int(input(\"Enter fahrenhiet Temperature: \"))\n",
        "converted_Temp = (temp - 32) / 1.8\n",
        "print(\"Temperature in celsius: \",converted_Temp)"
      ],
      "metadata": {
        "id": "sNkvLT_j3laV",
        "colab": {
          "base_uri": "https://localhost:8080/"
        },
        "outputId": "cd7cfedf-5faf-437a-c1a6-2515a76e2e40"
      },
      "execution_count": null,
      "outputs": [
        {
          "output_type": "stream",
          "name": "stdout",
          "text": [
            "Enter fahrenhiet Temperature: 1\n",
            "Temperature in celsius:  -17.22222222222222\n"
          ]
        }
      ]
    }
  ]
}