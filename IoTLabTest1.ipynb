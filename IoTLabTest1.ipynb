{
  "nbformat": 4,
  "nbformat_minor": 0,
  "metadata": {
    "colab": {
      "name": "IoTLabTest1.ipynb",
      "provenance": []
    },
    "kernelspec": {
      "name": "python3",
      "display_name": "Python 3"
    },
    "language_info": {
      "name": "python"
    }
  },
  "cells": [
    {
      "cell_type": "code",
      "execution_count": null,
      "metadata": {
        "colab": {
          "base_uri": "https://localhost:8080/"
        },
        "id": "WObl1Gn7ZZ4a",
        "outputId": "7a028f7d-e207-42c1-8fcb-476fcccdc994"
      },
      "outputs": [
        {
          "output_type": "stream",
          "name": "stdout",
          "text": [
            "Enter a range of numbers: 4\n",
            "Enter number: 3\n",
            "Enter number: 4\n",
            "Enter number: 6\n",
            "Enter number: 7\n",
            "The original list is:  [3, 4, 6, 7]\n",
            "Odd numbers in original list are:  [3, 7]\n"
          ]
        }
      ],
      "source": [
        "'''Q1) Python program to print all odd numbers in a list'''\n",
        "limit = int(input(\"Enter a range of numbers: \"))\n",
        "n = []\n",
        "odd = []\n",
        "for i in range(limit):\n",
        "  num = int(input(\"Enter number: \"))\n",
        "  n.append(num)\n",
        "for j in n[:]:\n",
        "    if j%2 != 0:\n",
        "      odd.append(j)\n",
        "print(\"The original list is: \",n)\n",
        "print(\"Odd numbers in original list are: \",odd)\n"
      ]
    },
    {
      "cell_type": "code",
      "source": [
        "'''Q2) Python program to find the sum of list elements'''\n",
        "limit = int(input(\"Enter a range of numbers: \"))\n",
        "n = []\n",
        "sum = 0\n",
        "for i in range(limit):\n",
        "  num = int(input(\"Enter number: \"))\n",
        "  n.append(num)\n",
        "for j in range(0,len(n)):\n",
        "  sum = sum + n[j]\n",
        "print(\"\\tThe orginal list\\n\",n)\n",
        "print(\"Sum of all elements of list: \",sum)"
      ],
      "metadata": {
        "colab": {
          "base_uri": "https://localhost:8080/"
        },
        "id": "Le_yMKFsclfG",
        "outputId": "d7126cb0-0e7c-4205-8312-a213859be267"
      },
      "execution_count": null,
      "outputs": [
        {
          "output_type": "stream",
          "name": "stdout",
          "text": [
            "Enter a range of numbers: 4\n",
            "Enter number: 45\n",
            "Enter number: 46\n",
            "Enter number: 11\n",
            "Enter number: 31\n",
            "\tThe orginal list\n",
            " [45, 46, 11, 31]\n",
            "Sum of all elements of list:  133\n"
          ]
        }
      ]
    },
    {
      "cell_type": "code",
      "source": [
        "'''Q3) Python program to reverse a list in two ways'''\n",
        "\n",
        "#first method using reverse() function\n",
        "limit = int(input(\"Enter a range of numbers: \"))\n",
        "n = []\n",
        "for i in range(limit):\n",
        "  num = int(input(\"Enter number: \"))\n",
        "  n.append(num)\n",
        "print(\"The original list is: \",n)\n",
        "n.reverse()\n",
        "print(\"The reversed list is: \",n)\n",
        "print(\"\\n------------------------------\\n\")\n",
        "#second method is slicing\n",
        "limit = int(input(\"Enter a range of numbers: \"))\n",
        "n = []\n",
        "for i in range(limit):\n",
        "  num = int(input(\"Enter number: \"))\n",
        "  n.append(num)\n",
        "print(\"The original list is: \",n)\n",
        "rev = n[::-1]\n",
        "print(\"The reversed list is: \",rev)"
      ],
      "metadata": {
        "colab": {
          "base_uri": "https://localhost:8080/"
        },
        "id": "00xPO7gaimrw",
        "outputId": "351125ec-d582-4370-d4b1-bd5ca1487223"
      },
      "execution_count": null,
      "outputs": [
        {
          "output_type": "stream",
          "name": "stdout",
          "text": [
            "Enter a range of numbers: 4\n",
            "Enter number: 1\n",
            "Enter number: 5\n",
            "Enter number: 3\n",
            "Enter number: 9\n",
            "The original list is:  [1, 5, 3, 9]\n",
            "The reversed list is:  [9, 3, 5, 1]\n",
            "\n",
            "------------------------------\n",
            "\n",
            "Enter a range of numbers: 4\n",
            "Enter number: 1\n",
            "Enter number: 5\n",
            "Enter number: 3\n",
            "Enter number: 9\n",
            "The original list is:  [1, 5, 3, 9]\n",
            "The reversed list is:  [9, 3, 5, 1]\n"
          ]
        }
      ]
    },
    {
      "cell_type": "code",
      "source": [
        "'''Q4) Python program to find the top two maximum numbers in a list'''\n",
        "limit = int(input(\"Enter a range of numbers: \"))\n",
        "n = []\n",
        "for i in range(1,limit+1):\n",
        "    num=int(input(\"Enter element:\"))\n",
        "    n.append(num)\n",
        "n.sort()\n",
        "print(\"Highest element is: \",n[limit-1])\n",
        "print(\"Second highest element is: \",n[limit-2])"
      ],
      "metadata": {
        "id": "6uDXjrb2kCZ3",
        "colab": {
          "base_uri": "https://localhost:8080/"
        },
        "outputId": "2a216b2e-3225-4970-864d-0bd6d3563fcc"
      },
      "execution_count": 53,
      "outputs": [
        {
          "output_type": "stream",
          "name": "stdout",
          "text": [
            "Enter a range of numbers: 3\n",
            "Enter element:5\n",
            "Enter element:1\n",
            "Enter element:2\n",
            "Highest element is:  5\n",
            "Second highest element is:  2\n"
          ]
        }
      ]
    },
    {
      "cell_type": "code",
      "source": [
        "'''Q5) Write a program in python to find the second highest number in an integer list'''\n",
        "limit = int(input(\"Enter a range of numbers: \"))\n",
        "n = []\n",
        "for i in range(1,limit+1):\n",
        "    num=int(input(\"Enter element:\"))\n",
        "    n.append(num)\n",
        "n.sort()\n",
        "print(\"Second highest element is:\",n[limit-2])"
      ],
      "metadata": {
        "colab": {
          "base_uri": "https://localhost:8080/"
        },
        "id": "1cT0zY6RnRqQ",
        "outputId": "5eaff95c-4460-4269-a1b1-237ece20c210"
      },
      "execution_count": null,
      "outputs": [
        {
          "output_type": "stream",
          "name": "stdout",
          "text": [
            "Enter a range of numbers: 3\n",
            "Enter element:44\n",
            "Enter element:78\n",
            "Enter element:21\n",
            "Second highest element is: 44\n"
          ]
        }
      ]
    },
    {
      "cell_type": "code",
      "source": [
        "'''Q6) Python program to sort characters in descending order'''\n",
        "limit = int(input(\"How many characters you want to input? \"))\n",
        "n = []\n",
        "for i in range(1,limit+1):\n",
        "    num=input(\"Enter element:\")\n",
        "    n.append(num)\n",
        "n.sort(reverse = True)\n",
        "print(\"\\nSorted list in descending order: \",n)"
      ],
      "metadata": {
        "id": "F8MqiOb6sEOY",
        "colab": {
          "base_uri": "https://localhost:8080/"
        },
        "outputId": "bde43dce-6b87-44c3-8b81-d2da3138df25"
      },
      "execution_count": 52,
      "outputs": [
        {
          "output_type": "stream",
          "name": "stdout",
          "text": [
            "How many characters you want to input? 3\n",
            "Enter element:h\n",
            "Enter element:a\n",
            "Enter element:b\n",
            "\n",
            "Sorted list in descending order:  ['h', 'b', 'a']\n"
          ]
        }
      ]
    },
    {
      "cell_type": "code",
      "source": [
        "'''Q7) Python program to remove repeated characters from a string'''\n",
        "str = input(\"Enter a character: \")\n",
        "new_str=\"\"\n",
        "for char in str:\n",
        "    if char not in new_str:\n",
        "        new_str += char\n",
        "print(\"After removing repeated characters: \",new_str)\n"
      ],
      "metadata": {
        "colab": {
          "base_uri": "https://localhost:8080/"
        },
        "id": "SmI1edFZxD_f",
        "outputId": "4eeb494c-c0ba-4316-80d7-3a65a35ae2aa"
      },
      "execution_count": 67,
      "outputs": [
        {
          "output_type": "stream",
          "name": "stdout",
          "text": [
            "Enter a character: DuaFaisal\n",
            "After removing repeated characters:  DuaFisl\n"
          ]
        }
      ]
    },
    {
      "cell_type": "code",
      "source": [
        "'''Q8) Python program to check if a given character is a vowel or consonant'''\n",
        "char = input(\"Enter a character: \")\n",
        "if char.lower() in ('a','e','i','o','u') or char.upper() in ('A','E','I','O','U'):\n",
        "  print(char,\" is a vowel\")\n",
        "else:\n",
        "  print(char,\" is a consonant\")"
      ],
      "metadata": {
        "colab": {
          "base_uri": "https://localhost:8080/"
        },
        "id": "S1vNrewyxMn_",
        "outputId": "67ee62eb-275c-4025-8ff6-7369985003e6"
      },
      "execution_count": 59,
      "outputs": [
        {
          "output_type": "stream",
          "name": "stdout",
          "text": [
            "Enter a character: b\n",
            "b  is a consonant\n"
          ]
        }
      ]
    },
    {
      "cell_type": "code",
      "source": [
        "'''Q9) Python program to calculate factorial'''\n",
        "num = int(input(\"Enter a number: \"))\n",
        "factorial = 1\n",
        "if num < 0:\n",
        "   print(\"Sorry, your number is negative\")\n",
        "elif num == 0:\n",
        "   print(\"The factorial of 0 is 1\")\n",
        "else:\n",
        "   for i in range(1,num + 1):\n",
        "       factorial *= i\n",
        "   print(\"The factorial of\",num,\"is\",factorial)"
      ],
      "metadata": {
        "colab": {
          "base_uri": "https://localhost:8080/"
        },
        "id": "vezPFTpbxVV3",
        "outputId": "461c620d-8822-402a-ba35-b5ce38d324c1"
      },
      "execution_count": 60,
      "outputs": [
        {
          "output_type": "stream",
          "name": "stdout",
          "text": [
            "Enter a number: 3\n",
            "The factorial of 3 is 6\n"
          ]
        }
      ]
    },
    {
      "cell_type": "code",
      "source": [
        "'''Q10) Python program to merge two lists'''\n",
        "limit1 = int(input(\"How many elements you want in list 1? \"))\n",
        "list1 = []\n",
        "for i in range(1,limit1+1):\n",
        "    num=input(\"Enter element:\")\n",
        "    list1.append(num)\n",
        "limit2 = int(input(\"How many elements you want in list 2? \"))\n",
        "list2 = []\n",
        "for i in range(1,limit2+1):\n",
        "    num=input(\"Enter element:\")\n",
        "    list2.append(num)\n",
        "list1.extend(list2)\n",
        "print(\"The merged list is: \",list1)"
      ],
      "metadata": {
        "colab": {
          "base_uri": "https://localhost:8080/"
        },
        "id": "3ljTXaDku3RI",
        "outputId": "50b0cbe3-638c-4339-f33c-5381ecf07fa3"
      },
      "execution_count": 56,
      "outputs": [
        {
          "output_type": "stream",
          "name": "stdout",
          "text": [
            "How many elements you want in list 1? 3\n",
            "Enter element:2\n",
            "Enter element:1\n",
            "Enter element:6\n",
            "How many elements you want in list 2? 2\n",
            "Enter element:8\n",
            "Enter element:9\n",
            "The merged list is:  ['2', '1', '6', '8', '9']\n"
          ]
        }
      ]
    },
    {
      "cell_type": "code",
      "source": [
        ""
      ],
      "metadata": {
        "id": "jqPrqz9ZwP9h"
      },
      "execution_count": null,
      "outputs": []
    }
  ]
}